{
 "cells": [
  {
   "cell_type": "markdown",
   "id": "15141c4a",
   "metadata": {},
   "source": [
    "## Introdução à *Data Science* e à Econometria com Python\n",
    "\n",
    "***Semana Acadêmica 2025 - Departamento de Economia e Relações Internacionais - UFSC***\n",
    "\n",
    "Auditório da Reitoria - UFSC\n",
    "\n",
    "**11/09/2025**\n",
    "\n",
    "Prof. Daniel de Abreu Pereira Uhr\n",
    "\n",
    "\n"
   ]
  },
  {
   "cell_type": "markdown",
   "id": "6c10dcc3",
   "metadata": {},
   "source": [
    "### Sobre o minicurso \"Introdução à *Data Science* e à Econometria com Python\"\n",
    "\n",
    "Este minicurso tem como objetivo introduzir os participantes aos conceitos fundamentais de *Data Science* e Econometria utilizando a linguagem de programação Python. Ao longo do curso, serão abordados tópicos essenciais para a análise de dados econômicos, incluindo a manipulação de dados, visualização, modelagem estatística e técnicas econométricas básicas.\n",
    "\n",
    "\n",
    "### Conteúdo Programático\n",
    "\n",
    "* Introdução ao Python e Jupyter Notebooks\n",
    "* Manipulação de Dados com Pandas\n",
    "* Visualização de Dados com Matplotlib e Seaborn\n",
    "  * Dados\n",
    "    * Cross-Section\n",
    "    * Time Series\n",
    "    * Panel Data\n",
    "* Python para Econometria\n",
    "  * Cross-section\n",
    "    * Regressão Linear Simples e Múltipla\n",
    "    * Regressão com Variáveis Instrumentais\n",
    "    * Modelos Probit e Logit\n",
    "  * Modelos de Séries Temporais\n",
    "    * ARIMA\n",
    "    * Modelos de Machine Learning\n",
    "  * Modelos de Dados em Painel\n",
    "    * Efeitos Fixos\n",
    "    * "
   ]
  },
  {
   "cell_type": "markdown",
   "id": "d4dfe68c",
   "metadata": {},
   "source": []
  }
 ],
 "metadata": {
  "language_info": {
   "name": "python"
  }
 },
 "nbformat": 4,
 "nbformat_minor": 5
}
