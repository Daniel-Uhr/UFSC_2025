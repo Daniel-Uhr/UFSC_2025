{
 "cells": [
  {
   "cell_type": "markdown",
   "id": "15141c4a",
   "metadata": {},
   "source": [
    "## Introdução à *Data Science* e à Econometria com Python\n",
    "\n",
    "***Semana Acadêmica 2025 - Departamento de Economia e Relações Internacionais - UFSC***\n",
    "\n",
    "Auditório da Reitoria - UFSC\n",
    "\n",
    "**11/09/2025**\n",
    "\n",
    "Prof. Daniel de Abreu Pereira Uhr"
   ]
  },
  {
   "cell_type": "markdown",
   "id": "6c10dcc3",
   "metadata": {},
   "source": [
    "### Minicurso \"Introdução à *Data Science* e à Econometria com Python\"\n",
    "\n",
    "Este minicurso tem como objetivo introduzir os participantes aos conceitos fundamentais de *Data Science* e Econometria utilizando a linguagem de programação Python. Ao longo do curso, serão abordados tópicos essenciais para a análise de dados econômicos, incluindo a manipulação de dados, visualização, modelagem estatística e técnicas econométricas básicas.\n",
    "\n",
    "\n",
    "### Conteúdo Programático\n",
    "\n",
    "* Por que usar o Python é importante para Economistas?\n",
    "* Ambiente de Desenvolvimento: Visual Studio Code (VSCode) & Python\n",
    "  * Introdução ao Python e Jupyter Notebooks\n",
    "* Manipulação e Visualização de Dados: Pandas, Matplotlib e Seaborn\n",
    "  * Dados\n",
    "    * Cross-Section\n",
    "    * Time Series\n",
    "    * Panel Data\n",
    "* Python para Econometria\n",
    "  * Cross-section\n",
    "    * Regressão Linear Simples e Múltipla\n",
    "    * Regressão com Variáveis Instrumentais\n",
    "    * Modelos Probit e Logit\n",
    "  * Modelos de Séries Temporais\n",
    "    * ARIMA\n",
    "    * Modelos de Machine Learning\n",
    "  * Modelos de Dados em Painel\n",
    "    * Efeitos Fixos\n",
    "\n",
    "\n",
    "### Referências\n",
    "\n",
    "* https://code.visualstudio.com/download\n",
    "* https://www.python.org/downloads/\n",
    "* https://miktex.org/download\n",
    "* https://copilot.github.com/\n",
    "* https://github.com/Daniel-Uhr\n",
    "\n",
    "\n",
    "Livro de referência parte de dados:\n",
    "* [Introduction to Statistical Learning](https://www.statlearning.com/) by Gareth James, Daniela Witten, Trevor Hastie and Robert Tibshirani \n",
    "* [Python Data Science Handbook](https://jakevdp.github.io/PythonDataScienceHandbook/) by Jake VanderPlas\n",
    "\n",
    "Outros materiais:\n",
    "\n",
    "* https://python.quantecon.org/intro.html\n",
    "\n",
    "\n",
    "***Observações:*** *O material apresentado aqui é uma adaptação do material de aula do Prof. Daniel de Abreu Pereira Uhr, e não deve ser utilizado para fins comerciais. O material é disponibilizado para fins educacionais e de pesquisa, e não deve ser reproduzido sem a devida autorização do autor. Este material pode conter erros e imprecisões. O autor não se responsabiliza por quaisquer danos ou prejuízos decorrentes do uso deste material. O uso deste material é de responsabilidade exclusiva do usuário. Caso você encontre erros ou imprecisões neste material, por favor, entre em contato com o autor para que possam ser corrigidos. O autor agradece qualquer feedback ou sugestão de melhoria.*\n"
   ]
  },
  {
   "cell_type": "markdown",
   "id": "b4beb725",
   "metadata": {},
   "source": [
    "### Por que usar o Python é importante para Economistas?"
   ]
  },
  {
   "cell_type": "markdown",
   "id": "02b8ac74",
   "metadata": {},
   "source": [
    "### Introdução ao Python e Jupyter Notebooks"
   ]
  },
  {
   "cell_type": "markdown",
   "id": "d4dfe68c",
   "metadata": {},
   "source": [
    "### Introdução ao Python e Jupyter Notebooks"
   ]
  }
 ],
 "metadata": {
  "language_info": {
   "name": "python"
  }
 },
 "nbformat": 4,
 "nbformat_minor": 5
}
